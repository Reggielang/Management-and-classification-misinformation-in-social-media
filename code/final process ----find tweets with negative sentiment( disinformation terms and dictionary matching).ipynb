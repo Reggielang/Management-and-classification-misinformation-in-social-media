{
 "cells": [
  {
   "cell_type": "markdown",
   "metadata": {},
   "source": [
    "# Try to  finding tweets that include ’strong sentiment’ directed at particular countries or national groups\n",
    "\n",
    "1.Data Integration\n",
    "\n",
    "2.Identify keywords\n",
    "\n",
    "3.Try to see what tweets are in specific countries.\n",
    "\n",
    "4.Try to find negative tweets by dictionary matching."
   ]
  },
  {
   "cell_type": "code",
   "execution_count": 15,
   "metadata": {},
   "outputs": [],
   "source": [
    "import pandas as pd\n",
    "import numpy as np\n",
    "import nltk\n",
    "import matplotlib.pyplot as plt\n",
    "import os"
   ]
  },
  {
   "cell_type": "code",
   "execution_count": 16,
   "metadata": {},
   "outputs": [],
   "source": [
    "os.chdir(r'D:\\dataset\\clear_data')"
   ]
  },
  {
   "cell_type": "code",
   "execution_count": 17,
   "metadata": {},
   "outputs": [],
   "source": [
    "text_01_mining = pd.read_csv('text_01_mining.csv',usecols=['tweet_id','text','word'])\n",
    "text_03mid_mining = pd.read_csv('text_03mid_mining.csv',usecols=['tweet_id','text','word'])\n",
    "text_03_04_mining = pd.read_csv('text_03_04_mining.csv',usecols=['tweet_id','text','word'])\n",
    "text_06_mining = pd.read_csv('text_06_mining.csv',usecols=['tweet_id','text','word'])\n",
    "text_07_mining = pd.read_csv('text_07_mining.csv',usecols=['tweet_id','text','word'])"
   ]
  },
  {
   "cell_type": "code",
   "execution_count": 19,
   "metadata": {},
   "outputs": [],
   "source": [
    "tweet_01 = pd.read_csv('data_01.csv',usecols=['text','date','user_location'])\n",
    "tweet_03mid = pd.read_csv('data_03mid.csv',usecols=['text','date','user_location'])\n",
    "tweet_03_04 = pd.read_csv('data_03_04.csv',usecols=['text','date','user_location'])\n",
    "tweet_06 = pd.read_csv('data_06.csv',usecols=['text','date','user_location'])\n",
    "tweet_07 = pd.read_csv('data_07.csv',usecols=['text','date','user_location'])"
   ]
  },
  {
   "cell_type": "code",
   "execution_count": 20,
   "metadata": {},
   "outputs": [
    {
     "name": "stdout",
     "output_type": "stream",
     "text": [
      "1477485 1352513 2442674 223042 5050203\n"
     ]
    }
   ],
   "source": [
    "print(len(tweet_01),len(tweet_03mid),len(tweet_03_04),len(tweet_06),len(tweet_07))"
   ]
  },
  {
   "cell_type": "code",
   "execution_count": 21,
   "metadata": {},
   "outputs": [],
   "source": [
    "tweet_01 = tweet_01.rename(columns={\"text\": \"tweet\"})\n",
    "tweet_03mid = tweet_03mid.rename(columns={\"text\": \"tweet\"})\n",
    "tweet_03_04 = tweet_03_04.rename(columns={\"text\": \"tweet\"})\n",
    "tweet_06 = tweet_06.rename(columns={\"text\": \"tweet\"})\n",
    "tweet_07 = tweet_07.rename(columns={\"text\": \"tweet\"})"
   ]
  },
  {
   "cell_type": "code",
   "execution_count": 22,
   "metadata": {},
   "outputs": [],
   "source": [
    "text_01_mining = pd.concat([text_01_mining,tweet_01],axis = 1)\n",
    "text_03mid_mining = pd.concat([text_03mid_mining,tweet_03mid],axis = 1)\n",
    "text_03_04_mining = pd.concat([text_03_04_mining,tweet_03_04],axis = 1)\n",
    "text_06_mining = pd.concat([text_06_mining,tweet_06],axis = 1)\n",
    "text_07_mining = pd.concat([text_07_mining,tweet_07],axis = 1)"
   ]
  },
  {
   "cell_type": "code",
   "execution_count": 23,
   "metadata": {},
   "outputs": [
    {
     "data": {
      "text/plain": [
       "False    1477387\n",
       "True          98\n",
       "Name: text, dtype: int64"
      ]
     },
     "execution_count": 23,
     "metadata": {},
     "output_type": "execute_result"
    }
   ],
   "source": [
    "text_01_mining.text.isna().value_counts()"
   ]
  },
  {
   "cell_type": "code",
   "execution_count": 24,
   "metadata": {},
   "outputs": [
    {
     "data": {
      "text/plain": [
       "False    1352425\n",
       "True          88\n",
       "Name: text, dtype: int64"
      ]
     },
     "execution_count": 24,
     "metadata": {},
     "output_type": "execute_result"
    }
   ],
   "source": [
    "text_03mid_mining.text.isna().value_counts()"
   ]
  },
  {
   "cell_type": "code",
   "execution_count": 25,
   "metadata": {},
   "outputs": [
    {
     "data": {
      "text/plain": [
       "False    2442484\n",
       "True         190\n",
       "Name: text, dtype: int64"
      ]
     },
     "execution_count": 25,
     "metadata": {},
     "output_type": "execute_result"
    }
   ],
   "source": [
    "text_03_04_mining.text.isna().value_counts()"
   ]
  },
  {
   "cell_type": "code",
   "execution_count": 26,
   "metadata": {},
   "outputs": [
    {
     "data": {
      "text/plain": [
       "False    223027\n",
       "True         15\n",
       "Name: text, dtype: int64"
      ]
     },
     "execution_count": 26,
     "metadata": {},
     "output_type": "execute_result"
    }
   ],
   "source": [
    "text_06_mining.text.isna().value_counts()"
   ]
  },
  {
   "cell_type": "code",
   "execution_count": 29,
   "metadata": {},
   "outputs": [
    {
     "data": {
      "text/plain": [
       "False    5049668\n",
       "Name: text, dtype: int64"
      ]
     },
     "execution_count": 29,
     "metadata": {},
     "output_type": "execute_result"
    }
   ],
   "source": [
    "text_07_mining.text.isna().value_counts()"
   ]
  },
  {
   "cell_type": "code",
   "execution_count": 28,
   "metadata": {},
   "outputs": [],
   "source": [
    "text_01_mining.dropna(subset=['text'],inplace=True)\n",
    "\n",
    "text_03mid_mining.dropna(subset=['text'],inplace=True)\n",
    "\n",
    "text_03_04_mining.dropna(subset=['text'],inplace=True)\n",
    "\n",
    "text_06_mining.dropna(subset=['text'],inplace=True)\n",
    "\n",
    "text_07_mining.dropna(subset=['text'],inplace=True)"
   ]
  },
  {
   "cell_type": "code",
   "execution_count": 30,
   "metadata": {},
   "outputs": [],
   "source": [
    "country = ['china','chinese','hong kong','taiwan',\n",
    "           'coronavirus','covid-19','covid','new coronavirus','corona virus',\n",
    "           'england','united kingdom','britain',\n",
    "           'europe','eu countries','european union',\n",
    "           'russia','russian',\n",
    "           'mexico', 'south america',\n",
    "           'america','united states',\n",
    "           'middle east','iran']"
   ]
  },
  {
   "cell_type": "code",
   "execution_count": 31,
   "metadata": {},
   "outputs": [],
   "source": [
    "pattern = '|'.join(country)\n",
    "text_01_country = text_01_mining[text_01_mining['text'].str.contains(pattern, case=False)]\n",
    "\n",
    "text_03mid_country = text_03mid_mining[text_03mid_mining['text'].str.contains(pattern, case=False)]\n",
    "\n",
    "text_03_04_country = text_03_04_mining[text_03_04_mining['text'].str.contains(pattern, case=False)]\n",
    "\n",
    "text_06_country = text_06_mining[text_06_mining['text'].str.contains(pattern, case=False)]\n",
    "\n",
    "text_07_country = text_07_mining[text_07_mining['text'].str.contains(pattern, case=False)]"
   ]
  },
  {
   "cell_type": "code",
   "execution_count": 32,
   "metadata": {},
   "outputs": [
    {
     "name": "stdout",
     "output_type": "stream",
     "text": [
      "265417 265957 584278 64620 718203\n"
     ]
    }
   ],
   "source": [
    "print(len(text_01_country),len(text_03mid_country),len(text_03_04_country),len(text_06_country),len(text_07_country))"
   ]
  },
  {
   "cell_type": "code",
   "execution_count": 33,
   "metadata": {},
   "outputs": [],
   "source": [
    "tweet_country = pd.concat([text_01_country,text_03mid_country,text_03_04_country,text_06_country,text_07_country],axis = 0,join = 'inner')"
   ]
  },
  {
   "cell_type": "code",
   "execution_count": 34,
   "metadata": {},
   "outputs": [],
   "source": [
    "tweet_country  = tweet_country.reset_index(drop=True)"
   ]
  },
  {
   "cell_type": "code",
   "execution_count": 35,
   "metadata": {},
   "outputs": [
    {
     "data": {
      "text/html": [
       "<div>\n",
       "<style scoped>\n",
       "    .dataframe tbody tr th:only-of-type {\n",
       "        vertical-align: middle;\n",
       "    }\n",
       "\n",
       "    .dataframe tbody tr th {\n",
       "        vertical-align: top;\n",
       "    }\n",
       "\n",
       "    .dataframe thead th {\n",
       "        text-align: right;\n",
       "    }\n",
       "</style>\n",
       "<table border=\"1\" class=\"dataframe\">\n",
       "  <thead>\n",
       "    <tr style=\"text-align: right;\">\n",
       "      <th></th>\n",
       "      <th>tweet_id</th>\n",
       "      <th>text</th>\n",
       "      <th>word</th>\n",
       "      <th>tweet</th>\n",
       "      <th>user_location</th>\n",
       "      <th>date</th>\n",
       "    </tr>\n",
       "  </thead>\n",
       "  <tbody>\n",
       "    <tr>\n",
       "      <td>0</td>\n",
       "      <td>1215055927264436224</td>\n",
       "      <td>allday anyone surprised ilhan omar sharing bra...</td>\n",
       "      <td>['allday', 'anyone', 'surprised', 'ilhan', 'om...</td>\n",
       "      <td>RT @Louis_Allday: Anyone who is surprised that...</td>\n",
       "      <td>she/her</td>\n",
       "      <td>2020-01-08 23:41:22</td>\n",
       "    </tr>\n",
       "    <tr>\n",
       "      <td>1</td>\n",
       "      <td>1215055922634141697</td>\n",
       "      <td>good morning everyone except gladly spread ira...</td>\n",
       "      <td>['good', 'morning', 'everyone', 'except', 'gla...</td>\n",
       "      <td>RT @catturd2: Good morning to everyone except ...</td>\n",
       "      <td>NaN</td>\n",
       "      <td>2020-01-08 23:41:21</td>\n",
       "    </tr>\n",
       "    <tr>\n",
       "      <td>2</td>\n",
       "      <td>1215055917747585024</td>\n",
       "      <td>indeed remarkable like remarkable example offi...</td>\n",
       "      <td>['indeed', 'remarkable', 'like', 'remarkable',...</td>\n",
       "      <td>This is indeed remarkable, just like it's a re...</td>\n",
       "      <td>United States</td>\n",
       "      <td>2020-01-08 23:41:20</td>\n",
       "    </tr>\n",
       "    <tr>\n",
       "      <td>3</td>\n",
       "      <td>1215055918045548544</td>\n",
       "      <td>msnbc truly pathetic fake news medium outlet h...</td>\n",
       "      <td>['msnbc', 'truly', 'pathetic', 'fake', 'news',...</td>\n",
       "      <td>RT @Jamierodr14: WOW! \\n\\nMSNBC is truly Pathe...</td>\n",
       "      <td>United States</td>\n",
       "      <td>2020-01-08 23:41:20</td>\n",
       "    </tr>\n",
       "    <tr>\n",
       "      <td>4</td>\n",
       "      <td>1215055921254227969</td>\n",
       "      <td>shot dark fizzle iran propaganda statement roc...</td>\n",
       "      <td>['shot', 'dark', 'fizzle', 'iran', 'propaganda...</td>\n",
       "      <td>RT @thro_e: 😬 WHEN SHOTS IN THE DARK FIZZLE 😬\\...</td>\n",
       "      <td>Nashua, NH</td>\n",
       "      <td>2020-01-08 23:41:20</td>\n",
       "    </tr>\n",
       "    <tr>\n",
       "      <td>...</td>\n",
       "      <td>...</td>\n",
       "      <td>...</td>\n",
       "      <td>...</td>\n",
       "      <td>...</td>\n",
       "      <td>...</td>\n",
       "      <td>...</td>\n",
       "    </tr>\n",
       "    <tr>\n",
       "      <td>1898470</td>\n",
       "      <td>1285001509562773504</td>\n",
       "      <td>retweet real farm china botnetworks troll beha...</td>\n",
       "      <td>['retweet', 'real', 'farm', 'china', 'botnetwo...</td>\n",
       "      <td>RT @DeepStateExpose: RETWEET! The real bot far...</td>\n",
       "      <td>NaN</td>\n",
       "      <td>2020-07-20 00:00:08</td>\n",
       "    </tr>\n",
       "    <tr>\n",
       "      <td>1898471</td>\n",
       "      <td>1285001495285506048</td>\n",
       "      <td>place amazing america full incredibly stupid w...</td>\n",
       "      <td>['place', 'amazing', 'america', 'full', 'incre...</td>\n",
       "      <td>@BBCWorld It's so sad that a place as amazing ...</td>\n",
       "      <td>NaN</td>\n",
       "      <td>2020-07-20 00:00:05</td>\n",
       "    </tr>\n",
       "    <tr>\n",
       "      <td>1898472</td>\n",
       "      <td>1285001495285506048</td>\n",
       "      <td>place amazing america full incredibly stupid w...</td>\n",
       "      <td>['place', 'amazing', 'america', 'full', 'incre...</td>\n",
       "      <td>@BBCWorld It's so sad that a place as amazing ...</td>\n",
       "      <td>NaN</td>\n",
       "      <td>2020-07-20 00:00:05</td>\n",
       "    </tr>\n",
       "    <tr>\n",
       "      <td>1898473</td>\n",
       "      <td>1285001477115666433</td>\n",
       "      <td>dive surface online information pattern corona...</td>\n",
       "      <td>['dive', 'surface', 'online', 'information', '...</td>\n",
       "      <td>Dive under the surface of online information p...</td>\n",
       "      <td>Global</td>\n",
       "      <td>2020-07-20 00:00:00</td>\n",
       "    </tr>\n",
       "    <tr>\n",
       "      <td>1898474</td>\n",
       "      <td>1285001477115666433</td>\n",
       "      <td>dive surface online information pattern corona...</td>\n",
       "      <td>['dive', 'surface', 'online', 'information', '...</td>\n",
       "      <td>Dive under the surface of online information p...</td>\n",
       "      <td>Global</td>\n",
       "      <td>2020-07-20 00:00:00</td>\n",
       "    </tr>\n",
       "  </tbody>\n",
       "</table>\n",
       "<p>1898475 rows × 6 columns</p>\n",
       "</div>"
      ],
      "text/plain": [
       "                    tweet_id  \\\n",
       "0        1215055927264436224   \n",
       "1        1215055922634141697   \n",
       "2        1215055917747585024   \n",
       "3        1215055918045548544   \n",
       "4        1215055921254227969   \n",
       "...                      ...   \n",
       "1898470  1285001509562773504   \n",
       "1898471  1285001495285506048   \n",
       "1898472  1285001495285506048   \n",
       "1898473  1285001477115666433   \n",
       "1898474  1285001477115666433   \n",
       "\n",
       "                                                      text  \\\n",
       "0        allday anyone surprised ilhan omar sharing bra...   \n",
       "1        good morning everyone except gladly spread ira...   \n",
       "2        indeed remarkable like remarkable example offi...   \n",
       "3        msnbc truly pathetic fake news medium outlet h...   \n",
       "4        shot dark fizzle iran propaganda statement roc...   \n",
       "...                                                    ...   \n",
       "1898470  retweet real farm china botnetworks troll beha...   \n",
       "1898471  place amazing america full incredibly stupid w...   \n",
       "1898472  place amazing america full incredibly stupid w...   \n",
       "1898473  dive surface online information pattern corona...   \n",
       "1898474  dive surface online information pattern corona...   \n",
       "\n",
       "                                                      word  \\\n",
       "0        ['allday', 'anyone', 'surprised', 'ilhan', 'om...   \n",
       "1        ['good', 'morning', 'everyone', 'except', 'gla...   \n",
       "2        ['indeed', 'remarkable', 'like', 'remarkable',...   \n",
       "3        ['msnbc', 'truly', 'pathetic', 'fake', 'news',...   \n",
       "4        ['shot', 'dark', 'fizzle', 'iran', 'propaganda...   \n",
       "...                                                    ...   \n",
       "1898470  ['retweet', 'real', 'farm', 'china', 'botnetwo...   \n",
       "1898471  ['place', 'amazing', 'america', 'full', 'incre...   \n",
       "1898472  ['place', 'amazing', 'america', 'full', 'incre...   \n",
       "1898473  ['dive', 'surface', 'online', 'information', '...   \n",
       "1898474  ['dive', 'surface', 'online', 'information', '...   \n",
       "\n",
       "                                                     tweet  user_location  \\\n",
       "0        RT @Louis_Allday: Anyone who is surprised that...        she/her   \n",
       "1        RT @catturd2: Good morning to everyone except ...            NaN   \n",
       "2        This is indeed remarkable, just like it's a re...  United States   \n",
       "3        RT @Jamierodr14: WOW! \\n\\nMSNBC is truly Pathe...  United States   \n",
       "4        RT @thro_e: 😬 WHEN SHOTS IN THE DARK FIZZLE 😬\\...     Nashua, NH   \n",
       "...                                                    ...            ...   \n",
       "1898470  RT @DeepStateExpose: RETWEET! The real bot far...            NaN   \n",
       "1898471  @BBCWorld It's so sad that a place as amazing ...            NaN   \n",
       "1898472  @BBCWorld It's so sad that a place as amazing ...            NaN   \n",
       "1898473  Dive under the surface of online information p...         Global   \n",
       "1898474  Dive under the surface of online information p...         Global   \n",
       "\n",
       "                        date  \n",
       "0        2020-01-08 23:41:22  \n",
       "1        2020-01-08 23:41:21  \n",
       "2        2020-01-08 23:41:20  \n",
       "3        2020-01-08 23:41:20  \n",
       "4        2020-01-08 23:41:20  \n",
       "...                      ...  \n",
       "1898470  2020-07-20 00:00:08  \n",
       "1898471  2020-07-20 00:00:05  \n",
       "1898472  2020-07-20 00:00:05  \n",
       "1898473  2020-07-20 00:00:00  \n",
       "1898474  2020-07-20 00:00:00  \n",
       "\n",
       "[1898475 rows x 6 columns]"
      ]
     },
     "execution_count": 35,
     "metadata": {},
     "output_type": "execute_result"
    }
   ],
   "source": [
    "tweet_country"
   ]
  },
  {
   "cell_type": "markdown",
   "metadata": {},
   "source": [
    "# So I changed my strategy and did not use machine learning methods. I did two keyword scanings, the first time I selected countries and hot topics, and the second time I used the terms of disinformation. The results obtained in this way may be better."
   ]
  },
  {
   "cell_type": "code",
   "execution_count": 36,
   "metadata": {},
   "outputs": [],
   "source": [
    "disinformation = ['Fake news','Propaganda','Disinformation','Active measures','Subversion','Interference',\n",
    "'Influence','Conspiracy','Deep state','Misinformation','Fabrication','Manipulate','Deceive','Useful idiots',\n",
    "'Mainstream media','Populism','Untrustworthy','Hoax','Made-up','Bogus','Inaccurate','Doctored','Fact Checking','eu False',\n",
    "'eu Fraud','eu Hoax','eu Lies','eu Rumours','eu Troll','europe False','europe Fraud','europe Hoax','europe Lies',\n",
    "'europe Rumours','europe Troll','european False','european Fraud','european Hoax','european Lies','european Rumours','european Troll']"
   ]
  },
  {
   "cell_type": "code",
   "execution_count": 37,
   "metadata": {},
   "outputs": [],
   "source": [
    "pattern = '|'.join(disinformation)\n",
    "tweet_country = tweet_country[tweet_country['text'].str.contains(pattern, case=False)]"
   ]
  },
  {
   "cell_type": "code",
   "execution_count": 38,
   "metadata": {},
   "outputs": [
    {
     "name": "stdout",
     "output_type": "stream",
     "text": [
      "1712378\n"
     ]
    }
   ],
   "source": [
    "print(len(tweet_country))"
   ]
  },
  {
   "cell_type": "code",
   "execution_count": 39,
   "metadata": {},
   "outputs": [],
   "source": [
    "tweet_country.to_csv('tweet_country.csv',index = False)"
   ]
  },
  {
   "cell_type": "code",
   "execution_count": 64,
   "metadata": {},
   "outputs": [],
   "source": [
    "tweet_country_text = pd.DataFrame(tweet_country['text'])"
   ]
  },
  {
   "cell_type": "code",
   "execution_count": 65,
   "metadata": {},
   "outputs": [],
   "source": [
    "tweet_country_text.to_csv('tweet_country.txt', index=False, sep=\" \")"
   ]
  },
  {
   "cell_type": "markdown",
   "metadata": {},
   "source": [
    "# Use the sentiment toolkit to analyze the sentiment of each tweet\n",
    "1.Reference:http://sentistrength.wlv.ac.uk/\n",
    "\n",
    "2.Use the sentiment toolkit to analyze the sentiment of all tweet text(use tweet_country.txt)\n",
    "(The tool already have an emotional dictionary)\n",
    "\n",
    "3.Read new data after having sentiment tags"
   ]
  },
  {
   "cell_type": "code",
   "execution_count": 66,
   "metadata": {},
   "outputs": [],
   "source": [
    "tweet_sentiment = pd.read_table('tweet_country+results.txt')"
   ]
  },
  {
   "cell_type": "code",
   "execution_count": 67,
   "metadata": {},
   "outputs": [
    {
     "data": {
      "text/html": [
       "<div>\n",
       "<style scoped>\n",
       "    .dataframe tbody tr th:only-of-type {\n",
       "        vertical-align: middle;\n",
       "    }\n",
       "\n",
       "    .dataframe tbody tr th {\n",
       "        vertical-align: top;\n",
       "    }\n",
       "\n",
       "    .dataframe thead th {\n",
       "        text-align: right;\n",
       "    }\n",
       "</style>\n",
       "<table border=\"1\" class=\"dataframe\">\n",
       "  <thead>\n",
       "    <tr style=\"text-align: right;\">\n",
       "      <th></th>\n",
       "      <th>text</th>\n",
       "      <th>Translation</th>\n",
       "      <th>Positive</th>\n",
       "      <th>Negative</th>\n",
       "      <th>EmotionRationale</th>\n",
       "    </tr>\n",
       "  </thead>\n",
       "  <tbody>\n",
       "    <tr>\n",
       "      <td>0</td>\n",
       "      <td>allday anyone surprised ilhan omar sharing bra...</td>\n",
       "      <td>allday anyone surprised ilhan omar sharing bra...</td>\n",
       "      <td>1</td>\n",
       "      <td>-2</td>\n",
       "      <td>allday[0] anyone[0] surprised[0] ilhan[0] oma...</td>\n",
       "    </tr>\n",
       "    <tr>\n",
       "      <td>1</td>\n",
       "      <td>good morning everyone except gladly spread ira...</td>\n",
       "      <td>good morning everyone except gladly spread ira...</td>\n",
       "      <td>2</td>\n",
       "      <td>-2</td>\n",
       "      <td>good[1] morning[0] everyone[0] except[0] glad...</td>\n",
       "    </tr>\n",
       "    <tr>\n",
       "      <td>2</td>\n",
       "      <td>indeed remarkable like remarkable example offi...</td>\n",
       "      <td>indeed remarkable like remarkable example offi...</td>\n",
       "      <td>2</td>\n",
       "      <td>-2</td>\n",
       "      <td>indeed[0] remarkable[0] like[1] remarkable[0]...</td>\n",
       "    </tr>\n",
       "    <tr>\n",
       "      <td>3</td>\n",
       "      <td>msnbc truly pathetic fake news medium outlet h...</td>\n",
       "      <td>msnbc truly pathetic fake news medium outlet h...</td>\n",
       "      <td>2</td>\n",
       "      <td>-3</td>\n",
       "      <td>msnbc[0] truly[1] pathetic[-2] fake[-1] news[...</td>\n",
       "    </tr>\n",
       "    <tr>\n",
       "      <td>4</td>\n",
       "      <td>shot dark fizzle iran propaganda statement roc...</td>\n",
       "      <td>shot dark fizle iran propaganda statement rock...</td>\n",
       "      <td>1</td>\n",
       "      <td>-3</td>\n",
       "      <td>shot[-1] dark[0] fizzle/fizle[0] iran[0] prop...</td>\n",
       "    </tr>\n",
       "  </tbody>\n",
       "</table>\n",
       "</div>"
      ],
      "text/plain": [
       "                                                text  \\\n",
       "0  allday anyone surprised ilhan omar sharing bra...   \n",
       "1  good morning everyone except gladly spread ira...   \n",
       "2  indeed remarkable like remarkable example offi...   \n",
       "3  msnbc truly pathetic fake news medium outlet h...   \n",
       "4  shot dark fizzle iran propaganda statement roc...   \n",
       "\n",
       "                                         Translation  Positive  Negative  \\\n",
       "0  allday anyone surprised ilhan omar sharing bra...         1        -2   \n",
       "1  good morning everyone except gladly spread ira...         2        -2   \n",
       "2  indeed remarkable like remarkable example offi...         2        -2   \n",
       "3  msnbc truly pathetic fake news medium outlet h...         2        -3   \n",
       "4  shot dark fizle iran propaganda statement rock...         1        -3   \n",
       "\n",
       "                                    EmotionRationale  \n",
       "0   allday[0] anyone[0] surprised[0] ilhan[0] oma...  \n",
       "1   good[1] morning[0] everyone[0] except[0] glad...  \n",
       "2   indeed[0] remarkable[0] like[1] remarkable[0]...  \n",
       "3   msnbc[0] truly[1] pathetic[-2] fake[-1] news[...  \n",
       "4   shot[-1] dark[0] fizzle/fizle[0] iran[0] prop...  "
      ]
     },
     "execution_count": 67,
     "metadata": {},
     "output_type": "execute_result"
    }
   ],
   "source": [
    "tweet_sentiment.head()"
   ]
  },
  {
   "cell_type": "code",
   "execution_count": 68,
   "metadata": {},
   "outputs": [],
   "source": [
    "tweet_sentiment['sentiment'] = tweet_sentiment.Positive + tweet_sentiment.Negative"
   ]
  },
  {
   "cell_type": "code",
   "execution_count": 69,
   "metadata": {},
   "outputs": [
    {
     "data": {
      "text/html": [
       "<div>\n",
       "<style scoped>\n",
       "    .dataframe tbody tr th:only-of-type {\n",
       "        vertical-align: middle;\n",
       "    }\n",
       "\n",
       "    .dataframe tbody tr th {\n",
       "        vertical-align: top;\n",
       "    }\n",
       "\n",
       "    .dataframe thead th {\n",
       "        text-align: right;\n",
       "    }\n",
       "</style>\n",
       "<table border=\"1\" class=\"dataframe\">\n",
       "  <thead>\n",
       "    <tr style=\"text-align: right;\">\n",
       "      <th></th>\n",
       "      <th>text</th>\n",
       "      <th>Translation</th>\n",
       "      <th>Positive</th>\n",
       "      <th>Negative</th>\n",
       "      <th>EmotionRationale</th>\n",
       "      <th>sentiment</th>\n",
       "    </tr>\n",
       "  </thead>\n",
       "  <tbody>\n",
       "    <tr>\n",
       "      <td>0</td>\n",
       "      <td>allday anyone surprised ilhan omar sharing bra...</td>\n",
       "      <td>allday anyone surprised ilhan omar sharing bra...</td>\n",
       "      <td>1</td>\n",
       "      <td>-2</td>\n",
       "      <td>allday[0] anyone[0] surprised[0] ilhan[0] oma...</td>\n",
       "      <td>-1</td>\n",
       "    </tr>\n",
       "    <tr>\n",
       "      <td>1</td>\n",
       "      <td>good morning everyone except gladly spread ira...</td>\n",
       "      <td>good morning everyone except gladly spread ira...</td>\n",
       "      <td>2</td>\n",
       "      <td>-2</td>\n",
       "      <td>good[1] morning[0] everyone[0] except[0] glad...</td>\n",
       "      <td>0</td>\n",
       "    </tr>\n",
       "    <tr>\n",
       "      <td>2</td>\n",
       "      <td>indeed remarkable like remarkable example offi...</td>\n",
       "      <td>indeed remarkable like remarkable example offi...</td>\n",
       "      <td>2</td>\n",
       "      <td>-2</td>\n",
       "      <td>indeed[0] remarkable[0] like[1] remarkable[0]...</td>\n",
       "      <td>0</td>\n",
       "    </tr>\n",
       "    <tr>\n",
       "      <td>3</td>\n",
       "      <td>msnbc truly pathetic fake news medium outlet h...</td>\n",
       "      <td>msnbc truly pathetic fake news medium outlet h...</td>\n",
       "      <td>2</td>\n",
       "      <td>-3</td>\n",
       "      <td>msnbc[0] truly[1] pathetic[-2] fake[-1] news[...</td>\n",
       "      <td>-1</td>\n",
       "    </tr>\n",
       "    <tr>\n",
       "      <td>4</td>\n",
       "      <td>shot dark fizzle iran propaganda statement roc...</td>\n",
       "      <td>shot dark fizle iran propaganda statement rock...</td>\n",
       "      <td>1</td>\n",
       "      <td>-3</td>\n",
       "      <td>shot[-1] dark[0] fizzle/fizle[0] iran[0] prop...</td>\n",
       "      <td>-2</td>\n",
       "    </tr>\n",
       "  </tbody>\n",
       "</table>\n",
       "</div>"
      ],
      "text/plain": [
       "                                                text  \\\n",
       "0  allday anyone surprised ilhan omar sharing bra...   \n",
       "1  good morning everyone except gladly spread ira...   \n",
       "2  indeed remarkable like remarkable example offi...   \n",
       "3  msnbc truly pathetic fake news medium outlet h...   \n",
       "4  shot dark fizzle iran propaganda statement roc...   \n",
       "\n",
       "                                         Translation  Positive  Negative  \\\n",
       "0  allday anyone surprised ilhan omar sharing bra...         1        -2   \n",
       "1  good morning everyone except gladly spread ira...         2        -2   \n",
       "2  indeed remarkable like remarkable example offi...         2        -2   \n",
       "3  msnbc truly pathetic fake news medium outlet h...         2        -3   \n",
       "4  shot dark fizle iran propaganda statement rock...         1        -3   \n",
       "\n",
       "                                    EmotionRationale  sentiment  \n",
       "0   allday[0] anyone[0] surprised[0] ilhan[0] oma...         -1  \n",
       "1   good[1] morning[0] everyone[0] except[0] glad...          0  \n",
       "2   indeed[0] remarkable[0] like[1] remarkable[0]...          0  \n",
       "3   msnbc[0] truly[1] pathetic[-2] fake[-1] news[...         -1  \n",
       "4   shot[-1] dark[0] fizzle/fizle[0] iran[0] prop...         -2  "
      ]
     },
     "execution_count": 69,
     "metadata": {},
     "output_type": "execute_result"
    }
   ],
   "source": [
    "tweet_sentiment.head()"
   ]
  },
  {
   "cell_type": "code",
   "execution_count": 70,
   "metadata": {},
   "outputs": [],
   "source": [
    "tweet_country = pd.read_csv('tweet_country.csv')\n",
    "tweet_english_negative = pd.concat([tweet_country,tweet_sentiment.sentiment],axis = 1)"
   ]
  },
  {
   "cell_type": "code",
   "execution_count": 71,
   "metadata": {},
   "outputs": [],
   "source": [
    "tweet_english_negative = tweet_english_negative[tweet_english_negative.sentiment < 0 ]"
   ]
  },
  {
   "cell_type": "code",
   "execution_count": 72,
   "metadata": {},
   "outputs": [],
   "source": [
    "tweet_english_negative = tweet_english_negative.reset_index(drop = True)"
   ]
  },
  {
   "cell_type": "code",
   "execution_count": 73,
   "metadata": {},
   "outputs": [],
   "source": [
    "tweet_english_negative.to_csv('tweet_english_negative.csv',index = False)"
   ]
  },
  {
   "cell_type": "code",
   "execution_count": 74,
   "metadata": {},
   "outputs": [
    {
     "data": {
      "text/html": [
       "<div>\n",
       "<style scoped>\n",
       "    .dataframe tbody tr th:only-of-type {\n",
       "        vertical-align: middle;\n",
       "    }\n",
       "\n",
       "    .dataframe tbody tr th {\n",
       "        vertical-align: top;\n",
       "    }\n",
       "\n",
       "    .dataframe thead th {\n",
       "        text-align: right;\n",
       "    }\n",
       "</style>\n",
       "<table border=\"1\" class=\"dataframe\">\n",
       "  <thead>\n",
       "    <tr style=\"text-align: right;\">\n",
       "      <th></th>\n",
       "      <th>tweet_id</th>\n",
       "      <th>text</th>\n",
       "      <th>word</th>\n",
       "      <th>tweet</th>\n",
       "      <th>user_location</th>\n",
       "      <th>date</th>\n",
       "      <th>sentiment</th>\n",
       "    </tr>\n",
       "  </thead>\n",
       "  <tbody>\n",
       "    <tr>\n",
       "      <td>0</td>\n",
       "      <td>1215055927264436224</td>\n",
       "      <td>allday anyone surprised ilhan omar sharing bra...</td>\n",
       "      <td>['allday', 'anyone', 'surprised', 'ilhan', 'om...</td>\n",
       "      <td>RT @Louis_Allday: Anyone who is surprised that...</td>\n",
       "      <td>she/her</td>\n",
       "      <td>2020-01-08 23:41:22</td>\n",
       "      <td>-1</td>\n",
       "    </tr>\n",
       "    <tr>\n",
       "      <td>1</td>\n",
       "      <td>1215055918045548544</td>\n",
       "      <td>msnbc truly pathetic fake news medium outlet h...</td>\n",
       "      <td>['msnbc', 'truly', 'pathetic', 'fake', 'news',...</td>\n",
       "      <td>RT @Jamierodr14: WOW! \\n\\nMSNBC is truly Pathe...</td>\n",
       "      <td>United States</td>\n",
       "      <td>2020-01-08 23:41:20</td>\n",
       "      <td>-1</td>\n",
       "    </tr>\n",
       "    <tr>\n",
       "      <td>2</td>\n",
       "      <td>1215055921254227969</td>\n",
       "      <td>shot dark fizzle iran propaganda statement roc...</td>\n",
       "      <td>['shot', 'dark', 'fizzle', 'iran', 'propaganda...</td>\n",
       "      <td>RT @thro_e: 😬 WHEN SHOTS IN THE DARK FIZZLE 😬\\...</td>\n",
       "      <td>Nashua, NH</td>\n",
       "      <td>2020-01-08 23:41:20</td>\n",
       "      <td>-2</td>\n",
       "    </tr>\n",
       "    <tr>\n",
       "      <td>3</td>\n",
       "      <td>1215055917227495424</td>\n",
       "      <td>fact checking trump address iran attack trump ...</td>\n",
       "      <td>['fact', 'checking', 'trump', 'address', 'iran...</td>\n",
       "      <td>Fact-checking Trump’s address on the Iran atta...</td>\n",
       "      <td>NaN</td>\n",
       "      <td>2020-01-08 23:41:19</td>\n",
       "      <td>-2</td>\n",
       "    </tr>\n",
       "    <tr>\n",
       "      <td>4</td>\n",
       "      <td>1215055915520491520</td>\n",
       "      <td>iran claim killed american pentagon said zero ...</td>\n",
       "      <td>['iran', 'claim', 'killed', 'american', 'penta...</td>\n",
       "      <td>RT @sxdoc: Iran claims it killed 30 Americans,...</td>\n",
       "      <td>UK</td>\n",
       "      <td>2020-01-08 23:41:19</td>\n",
       "      <td>-3</td>\n",
       "    </tr>\n",
       "    <tr>\n",
       "      <td>...</td>\n",
       "      <td>...</td>\n",
       "      <td>...</td>\n",
       "      <td>...</td>\n",
       "      <td>...</td>\n",
       "      <td>...</td>\n",
       "      <td>...</td>\n",
       "      <td>...</td>\n",
       "    </tr>\n",
       "    <tr>\n",
       "      <td>1287133</td>\n",
       "      <td>1285001512025051136</td>\n",
       "      <td>trump tonight coronavirus right world know wat...</td>\n",
       "      <td>['trump', 'tonight', 'coronavirus', 'right', '...</td>\n",
       "      <td>RT @ddale8: Trump tonight on the coronavirus: ...</td>\n",
       "      <td>NaN</td>\n",
       "      <td>2020-07-20 00:00:09</td>\n",
       "      <td>-1</td>\n",
       "    </tr>\n",
       "    <tr>\n",
       "      <td>1287134</td>\n",
       "      <td>1285001495285506048</td>\n",
       "      <td>place amazing america full incredibly stupid w...</td>\n",
       "      <td>['place', 'amazing', 'america', 'full', 'incre...</td>\n",
       "      <td>@BBCWorld It's so sad that a place as amazing ...</td>\n",
       "      <td>NaN</td>\n",
       "      <td>2020-07-20 00:00:05</td>\n",
       "      <td>-2</td>\n",
       "    </tr>\n",
       "    <tr>\n",
       "      <td>1287135</td>\n",
       "      <td>1285001495285506048</td>\n",
       "      <td>place amazing america full incredibly stupid w...</td>\n",
       "      <td>['place', 'amazing', 'america', 'full', 'incre...</td>\n",
       "      <td>@BBCWorld It's so sad that a place as amazing ...</td>\n",
       "      <td>NaN</td>\n",
       "      <td>2020-07-20 00:00:05</td>\n",
       "      <td>-2</td>\n",
       "    </tr>\n",
       "    <tr>\n",
       "      <td>1287136</td>\n",
       "      <td>1285001477115666433</td>\n",
       "      <td>dive surface online information pattern corona...</td>\n",
       "      <td>['dive', 'surface', 'online', 'information', '...</td>\n",
       "      <td>Dive under the surface of online information p...</td>\n",
       "      <td>Global</td>\n",
       "      <td>2020-07-20 00:00:00</td>\n",
       "      <td>-1</td>\n",
       "    </tr>\n",
       "    <tr>\n",
       "      <td>1287137</td>\n",
       "      <td>1285001477115666433</td>\n",
       "      <td>dive surface online information pattern corona...</td>\n",
       "      <td>['dive', 'surface', 'online', 'information', '...</td>\n",
       "      <td>Dive under the surface of online information p...</td>\n",
       "      <td>Global</td>\n",
       "      <td>2020-07-20 00:00:00</td>\n",
       "      <td>-1</td>\n",
       "    </tr>\n",
       "  </tbody>\n",
       "</table>\n",
       "<p>1287138 rows × 7 columns</p>\n",
       "</div>"
      ],
      "text/plain": [
       "                    tweet_id  \\\n",
       "0        1215055927264436224   \n",
       "1        1215055918045548544   \n",
       "2        1215055921254227969   \n",
       "3        1215055917227495424   \n",
       "4        1215055915520491520   \n",
       "...                      ...   \n",
       "1287133  1285001512025051136   \n",
       "1287134  1285001495285506048   \n",
       "1287135  1285001495285506048   \n",
       "1287136  1285001477115666433   \n",
       "1287137  1285001477115666433   \n",
       "\n",
       "                                                      text  \\\n",
       "0        allday anyone surprised ilhan omar sharing bra...   \n",
       "1        msnbc truly pathetic fake news medium outlet h...   \n",
       "2        shot dark fizzle iran propaganda statement roc...   \n",
       "3        fact checking trump address iran attack trump ...   \n",
       "4        iran claim killed american pentagon said zero ...   \n",
       "...                                                    ...   \n",
       "1287133  trump tonight coronavirus right world know wat...   \n",
       "1287134  place amazing america full incredibly stupid w...   \n",
       "1287135  place amazing america full incredibly stupid w...   \n",
       "1287136  dive surface online information pattern corona...   \n",
       "1287137  dive surface online information pattern corona...   \n",
       "\n",
       "                                                      word  \\\n",
       "0        ['allday', 'anyone', 'surprised', 'ilhan', 'om...   \n",
       "1        ['msnbc', 'truly', 'pathetic', 'fake', 'news',...   \n",
       "2        ['shot', 'dark', 'fizzle', 'iran', 'propaganda...   \n",
       "3        ['fact', 'checking', 'trump', 'address', 'iran...   \n",
       "4        ['iran', 'claim', 'killed', 'american', 'penta...   \n",
       "...                                                    ...   \n",
       "1287133  ['trump', 'tonight', 'coronavirus', 'right', '...   \n",
       "1287134  ['place', 'amazing', 'america', 'full', 'incre...   \n",
       "1287135  ['place', 'amazing', 'america', 'full', 'incre...   \n",
       "1287136  ['dive', 'surface', 'online', 'information', '...   \n",
       "1287137  ['dive', 'surface', 'online', 'information', '...   \n",
       "\n",
       "                                                     tweet  user_location  \\\n",
       "0        RT @Louis_Allday: Anyone who is surprised that...        she/her   \n",
       "1        RT @Jamierodr14: WOW! \\n\\nMSNBC is truly Pathe...  United States   \n",
       "2        RT @thro_e: 😬 WHEN SHOTS IN THE DARK FIZZLE 😬\\...     Nashua, NH   \n",
       "3        Fact-checking Trump’s address on the Iran atta...            NaN   \n",
       "4        RT @sxdoc: Iran claims it killed 30 Americans,...             UK   \n",
       "...                                                    ...            ...   \n",
       "1287133  RT @ddale8: Trump tonight on the coronavirus: ...            NaN   \n",
       "1287134  @BBCWorld It's so sad that a place as amazing ...            NaN   \n",
       "1287135  @BBCWorld It's so sad that a place as amazing ...            NaN   \n",
       "1287136  Dive under the surface of online information p...         Global   \n",
       "1287137  Dive under the surface of online information p...         Global   \n",
       "\n",
       "                        date  sentiment  \n",
       "0        2020-01-08 23:41:22         -1  \n",
       "1        2020-01-08 23:41:20         -1  \n",
       "2        2020-01-08 23:41:20         -2  \n",
       "3        2020-01-08 23:41:19         -2  \n",
       "4        2020-01-08 23:41:19         -3  \n",
       "...                      ...        ...  \n",
       "1287133  2020-07-20 00:00:09         -1  \n",
       "1287134  2020-07-20 00:00:05         -2  \n",
       "1287135  2020-07-20 00:00:05         -2  \n",
       "1287136  2020-07-20 00:00:00         -1  \n",
       "1287137  2020-07-20 00:00:00         -1  \n",
       "\n",
       "[1287138 rows x 7 columns]"
      ]
     },
     "execution_count": 74,
     "metadata": {},
     "output_type": "execute_result"
    }
   ],
   "source": [
    "#Read the CSV file again for check \n",
    "tweet_english_negative = pd.read_csv('tweet_english_negative.csv')\n",
    "tweet_english_negative"
   ]
  },
  {
   "cell_type": "code",
   "execution_count": null,
   "metadata": {},
   "outputs": [],
   "source": []
  }
 ],
 "metadata": {
  "kernelspec": {
   "display_name": "Python 3",
   "language": "python",
   "name": "python3"
  },
  "language_info": {
   "codemirror_mode": {
    "name": "ipython",
    "version": 3
   },
   "file_extension": ".py",
   "mimetype": "text/x-python",
   "name": "python",
   "nbconvert_exporter": "python",
   "pygments_lexer": "ipython3",
   "version": "3.7.4"
  }
 },
 "nbformat": 4,
 "nbformat_minor": 2
}
