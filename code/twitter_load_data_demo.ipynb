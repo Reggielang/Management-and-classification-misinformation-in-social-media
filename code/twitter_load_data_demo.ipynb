{
 "cells": [
  {
   "cell_type": "markdown",
   "metadata": {},
   "source": [
    "### This Jupyter Notebook shows how to load the Twitter data into a dataframe\n",
    "\n",
    "Useful links\n",
    "\n",
    "* Introduction to Jupyter Notebooks: [Jupyter Notebook Tutorial: Introduction, Setup, and Walkthrough](https://www.youtube.com/watch?v=HW29067qVWk)\n",
    "* Getting started with pandas https://pandas.pydata.org/pandas-docs/stable/getting_started/intro_tutorials/index.html\n",
    "* Getting started with natural language processing (NLP) with NLTK https://www.nltk.org/book/"
   ]
  },
  {
   "cell_type": "code",
   "execution_count": 1,
   "metadata": {},
   "outputs": [],
   "source": [
    "import os\n",
    "import json\n",
    "from pprint import pprint\n",
    "\n",
    "import pandas as pd"
   ]
  },
  {
   "cell_type": "code",
   "execution_count": 2,
   "metadata": {},
   "outputs": [],
   "source": [
    "# this is the path to the extracted JSON file from a .tar.gz archive\n",
    "JSON_FILE = \"2020-01-01.json\""
   ]
  },
  {
   "cell_type": "markdown",
   "metadata": {},
   "source": [
    "Each line of the file contains the data from a single tweet. We can get an idea of the structure by printing a line from the file."
   ]
  },
  {
   "cell_type": "code",
   "execution_count": 3,
   "metadata": {
    "scrolled": false
   },
   "outputs": [
    {
     "name": "stdout",
     "output_type": "stream",
     "text": [
      "{'_id': {'$oid': '5e0d442d1aa16380b7a9297c'},\n",
      " 'collected_by': 'sentinelRibTwitter',\n",
      " 'contributors': None,\n",
      " 'coordinates': None,\n",
      " 'created_at': {'$date': 1577923199000},\n",
      " 'created_at_src': 'Wed Jan 01 23:59:59 +0000 2020',\n",
      " 'display_text_range': [8, 140],\n",
      " 'entities': {'emotion': [],\n",
      "              'hashtags': [],\n",
      "              'indexed_by': {},\n",
      "              'ner': [],\n",
      "              'ontology': [],\n",
      "              'pronoun': [],\n",
      "              'swearword': [],\n",
      "              'symbols': [],\n",
      "              'token': [],\n",
      "              'urls': [{'display_url': 'twitter.com/i/web/status/1…',\n",
      "                        'expanded_url': 'https://twitter.com/i/web/status/1212523896727068672',\n",
      "                        'indices': [117, 140],\n",
      "                        'url': 'https://t.co/UkodUK8O88'}],\n",
      "              'user_mentions': [{'id': 14638581,\n",
      "                                 'id_str': '14638581',\n",
      "                                 'indices': [0, 7],\n",
      "                                 'name': 'BioBioChile',\n",
      "                                 'screen_name': 'biobio'}]},\n",
      " 'extended_tweet': {'display_text_range': [8, 246],\n",
      "                    'entities': {'hashtags': [{'indices': [209, 220],\n",
      "                                               'text': 'ChaoBioBio'},\n",
      "                                              {'indices': [221, 246],\n",
      "                                               'text': 'DejarDeSeguirRadioBioBio'}],\n",
      "                                 'symbols': [],\n",
      "                                 'urls': [],\n",
      "                                 'user_mentions': [{'id': 14638581,\n",
      "                                                    'id_str': '14638581',\n",
      "                                                    'indices': [0, 7],\n",
      "                                                    'name': 'BioBioChile',\n",
      "                                                    'screen_name': 'biobio'}]},\n",
      "                    'full_text': '@biobio Radio facha. Difunde propaganda para '\n",
      "                                 'rechazar una nueva Constitución. Apoya al '\n",
      "                                 'nazi Kast y además emite estrofa del himno '\n",
      "                                 'nacional que hace referencia a los cobardes '\n",
      "                                 'soldados de la dictadura. Por eso  '\n",
      "                                 '#ChaoBioBio #DejarDeSeguirRadioBioBio'},\n",
      " 'favorite_count': 0,\n",
      " 'favorited': False,\n",
      " 'filter_level': 'low',\n",
      " 'geo': None,\n",
      " 'id': 1212523896727068672,\n",
      " 'id_str': '1212523896727068672',\n",
      " 'in_reply_to_screen_name': 'biobio',\n",
      " 'in_reply_to_status_id': 1212523641126170624,\n",
      " 'in_reply_to_status_id_str': '1212523641126170624',\n",
      " 'in_reply_to_user_id': 14638581,\n",
      " 'in_reply_to_user_id_str': '14638581',\n",
      " 'investigationId': '20172',\n",
      " 'is_quote_status': False,\n",
      " 'lang': 'es',\n",
      " 'place': None,\n",
      " 'quote_count': 0,\n",
      " 'reply_count': 0,\n",
      " 'retweet_count': 0,\n",
      " 'retweeted': False,\n",
      " 'source': '<a href=\"http://twitter.com/download/android\" '\n",
      "           'rel=\"nofollow\">Twitter for Android</a>',\n",
      " 'stored_at': {'$date': 1577927725273},\n",
      " 'text': '@biobio Radio facha. Difunde propaganda para rechazar una nueva '\n",
      "         'Constitución. Apoya al nazi Kast y además emite est… '\n",
      "         'https://t.co/UkodUK8O88',\n",
      " 'text_cleaned': 'biobio Radio facha. Difunde propaganda para rechazar una '\n",
      "                 'nueva Constitución. Apoya al nazi Kast y además emite est.',\n",
      " 'text_translation': 'biobio Radio facha. Difunde propaganda para rechazar una '\n",
      "                     'nueva Constitución. Apoya al nazi Kast y además emite '\n",
      "                     'est.',\n",
      " 'timestamp_ms': '1577923199241',\n",
      " 'truncated': True,\n",
      " 'user': {'contributors_enabled': False,\n",
      "          'created_at': 'Sun Dec 22 18:26:03 +0000 2019',\n",
      "          'default_profile': True,\n",
      "          'default_profile_image': False,\n",
      "          'description': 'vivir la vida',\n",
      "          'favourites_count': 0,\n",
      "          'follow_request_sent': None,\n",
      "          'followers_count': 1,\n",
      "          'following': None,\n",
      "          'friends_count': 3,\n",
      "          'geo_enabled': False,\n",
      "          'id': 1208815934342721536,\n",
      "          'id_str': '1208815934342721536',\n",
      "          'is_translator': False,\n",
      "          'lang': None,\n",
      "          'listed_count': 0,\n",
      "          'location': None,\n",
      "          'name': 'Rolos',\n",
      "          'notifications': None,\n",
      "          'profile_background_color': 'F5F8FA',\n",
      "          'profile_background_image_url': '',\n",
      "          'profile_background_image_url_https': '',\n",
      "          'profile_background_tile': False,\n",
      "          'profile_image_url': 'http://pbs.twimg.com/profile_images/1208816312438312960/zkHVLwHe_normal.jpg',\n",
      "          'profile_image_url_https': 'https://pbs.twimg.com/profile_images/1208816312438312960/zkHVLwHe_normal.jpg',\n",
      "          'profile_link_color': '1DA1F2',\n",
      "          'profile_sidebar_border_color': 'C0DEED',\n",
      "          'profile_sidebar_fill_color': 'DDEEF6',\n",
      "          'profile_text_color': '333333',\n",
      "          'profile_use_background_image': True,\n",
      "          'protected': False,\n",
      "          'screen_name': 'Rolosess',\n",
      "          'statuses_count': 109,\n",
      "          'time_zone': None,\n",
      "          'translator_type': 'none',\n",
      "          'url': None,\n",
      "          'utc_offset': None,\n",
      "          'verified': False}}\n"
     ]
    }
   ],
   "source": []
  },
  {
   "cell_type": "markdown",
   "metadata": {},
   "source": [
    "There are many things that we do with this. Let's say for this example we're only interested in the id and text of a tweet."
   ]
  },
  {
   "cell_type": "code",
   "execution_count": 4,
   "metadata": {},
   "outputs": [],
   "source": [
    "# read each line of the file, extract relevant data\n",
    "rows = []\n",
    "with open(JSON_FILE, \"r\") as f:\n",
    "    for line in f:\n",
    "        data = json.loads(line)\n",
    "    \n",
    "        tweet_id = data[\"id_str\"]\n",
    "\n",
    "        if \"extended_tweet\" in data:\n",
    "            text = data[\"extended_tweet\"][\"full_text\"]\n",
    "        else:\n",
    "            text = data[\"text\"]\n",
    "\n",
    "        rows.append((tweet_id, text))"
   ]
  },
  {
   "cell_type": "markdown",
   "metadata": {},
   "source": [
    "The id and text have been loaded into a list of tuples."
   ]
  },
  {
   "cell_type": "code",
   "execution_count": 5,
   "metadata": {},
   "outputs": [
    {
     "name": "stdout",
     "output_type": "stream",
     "text": [
      "('1212523896727068672', '@biobio Radio facha. Difunde propaganda para rechazar una nueva Constitución. Apoya al nazi Kast y además emite estrofa del himno nacional que hace referencia a los cobardes soldados de la dictadura. Por eso  #ChaoBioBio #DejarDeSeguirRadioBioBio')\n"
     ]
    }
   ],
   "source": [
    "print(rows[0])"
   ]
  },
  {
   "cell_type": "markdown",
   "metadata": {},
   "source": [
    "This can now be put this into a dataframe."
   ]
  },
  {
   "cell_type": "code",
   "execution_count": 6,
   "metadata": {},
   "outputs": [],
   "source": [
    "df = pd.DataFrame(data=rows, columns=[\"tweet_id\", \"tweet_text\"])"
   ]
  },
  {
   "cell_type": "markdown",
   "metadata": {},
   "source": [
    "We can view the head of the dataframe to check it has been loaded as expected."
   ]
  },
  {
   "cell_type": "code",
   "execution_count": 7,
   "metadata": {},
   "outputs": [
    {
     "data": {
      "text/html": [
       "<div>\n",
       "<style scoped>\n",
       "    .dataframe tbody tr th:only-of-type {\n",
       "        vertical-align: middle;\n",
       "    }\n",
       "\n",
       "    .dataframe tbody tr th {\n",
       "        vertical-align: top;\n",
       "    }\n",
       "\n",
       "    .dataframe thead th {\n",
       "        text-align: right;\n",
       "    }\n",
       "</style>\n",
       "<table border=\"1\" class=\"dataframe\">\n",
       "  <thead>\n",
       "    <tr style=\"text-align: right;\">\n",
       "      <th></th>\n",
       "      <th>tweet_id</th>\n",
       "      <th>tweet_text</th>\n",
       "    </tr>\n",
       "  </thead>\n",
       "  <tbody>\n",
       "    <tr>\n",
       "      <td>0</td>\n",
       "      <td>1212523896727068672</td>\n",
       "      <td>@biobio Radio facha. Difunde propaganda para r...</td>\n",
       "    </tr>\n",
       "    <tr>\n",
       "      <td>1</td>\n",
       "      <td>1212523895821160449</td>\n",
       "      <td>RT @GregRubini: the replacement of  Gen. Mike ...</td>\n",
       "    </tr>\n",
       "    <tr>\n",
       "      <td>2</td>\n",
       "      <td>1212523898564038656</td>\n",
       "      <td>RT @TheTyee: Jason Kenney is learning that it’...</td>\n",
       "    </tr>\n",
       "    <tr>\n",
       "      <td>3</td>\n",
       "      <td>1212523893157761025</td>\n",
       "      <td>RT @realDonaldTrump: The Fake News said I play...</td>\n",
       "    </tr>\n",
       "    <tr>\n",
       "      <td>4</td>\n",
       "      <td>1212523894076129280</td>\n",
       "      <td>@rosebowlgame @BadgerFootball @oregonfootball ...</td>\n",
       "    </tr>\n",
       "  </tbody>\n",
       "</table>\n",
       "</div>"
      ],
      "text/plain": [
       "              tweet_id                                         tweet_text\n",
       "0  1212523896727068672  @biobio Radio facha. Difunde propaganda para r...\n",
       "1  1212523895821160449  RT @GregRubini: the replacement of  Gen. Mike ...\n",
       "2  1212523898564038656  RT @TheTyee: Jason Kenney is learning that it’...\n",
       "3  1212523893157761025  RT @realDonaldTrump: The Fake News said I play...\n",
       "4  1212523894076129280  @rosebowlgame @BadgerFootball @oregonfootball ..."
      ]
     },
     "execution_count": 7,
     "metadata": {},
     "output_type": "execute_result"
    }
   ],
   "source": [
    "df.head(5)"
   ]
  },
  {
   "cell_type": "code",
   "execution_count": 8,
   "metadata": {},
   "outputs": [
    {
     "name": "stdout",
     "output_type": "stream",
     "text": [
      "235482 texts loaded.\n"
     ]
    }
   ],
   "source": [
    "print(len(df), \"texts loaded.\")"
   ]
  },
  {
   "cell_type": "markdown",
   "metadata": {},
   "source": [
    "We can now save this dataframe to disk for later use."
   ]
  },
  {
   "cell_type": "code",
   "execution_count": 9,
   "metadata": {},
   "outputs": [],
   "source": [
    "df.to_pickle(\"2020-01-01_tweet_data.pkl\")"
   ]
  },
  {
   "cell_type": "markdown",
   "metadata": {},
   "source": [
    "The dataframe can be loaded later using the read_pickle method."
   ]
  },
  {
   "cell_type": "code",
   "execution_count": 10,
   "metadata": {
    "scrolled": true
   },
   "outputs": [
    {
     "data": {
      "text/html": [
       "<div>\n",
       "<style scoped>\n",
       "    .dataframe tbody tr th:only-of-type {\n",
       "        vertical-align: middle;\n",
       "    }\n",
       "\n",
       "    .dataframe tbody tr th {\n",
       "        vertical-align: top;\n",
       "    }\n",
       "\n",
       "    .dataframe thead th {\n",
       "        text-align: right;\n",
       "    }\n",
       "</style>\n",
       "<table border=\"1\" class=\"dataframe\">\n",
       "  <thead>\n",
       "    <tr style=\"text-align: right;\">\n",
       "      <th></th>\n",
       "      <th>tweet_id</th>\n",
       "      <th>tweet_text</th>\n",
       "    </tr>\n",
       "  </thead>\n",
       "  <tbody>\n",
       "    <tr>\n",
       "      <td>0</td>\n",
       "      <td>1212523896727068672</td>\n",
       "      <td>@biobio Radio facha. Difunde propaganda para r...</td>\n",
       "    </tr>\n",
       "    <tr>\n",
       "      <td>1</td>\n",
       "      <td>1212523895821160449</td>\n",
       "      <td>RT @GregRubini: the replacement of  Gen. Mike ...</td>\n",
       "    </tr>\n",
       "    <tr>\n",
       "      <td>2</td>\n",
       "      <td>1212523898564038656</td>\n",
       "      <td>RT @TheTyee: Jason Kenney is learning that it’...</td>\n",
       "    </tr>\n",
       "    <tr>\n",
       "      <td>3</td>\n",
       "      <td>1212523893157761025</td>\n",
       "      <td>RT @realDonaldTrump: The Fake News said I play...</td>\n",
       "    </tr>\n",
       "    <tr>\n",
       "      <td>4</td>\n",
       "      <td>1212523894076129280</td>\n",
       "      <td>@rosebowlgame @BadgerFootball @oregonfootball ...</td>\n",
       "    </tr>\n",
       "  </tbody>\n",
       "</table>\n",
       "</div>"
      ],
      "text/plain": [
       "              tweet_id                                         tweet_text\n",
       "0  1212523896727068672  @biobio Radio facha. Difunde propaganda para r...\n",
       "1  1212523895821160449  RT @GregRubini: the replacement of  Gen. Mike ...\n",
       "2  1212523898564038656  RT @TheTyee: Jason Kenney is learning that it’...\n",
       "3  1212523893157761025  RT @realDonaldTrump: The Fake News said I play...\n",
       "4  1212523894076129280  @rosebowlgame @BadgerFootball @oregonfootball ..."
      ]
     },
     "execution_count": 10,
     "metadata": {},
     "output_type": "execute_result"
    }
   ],
   "source": [
    "df = pd.read_pickle(\"2020-01-01_tweet_data.pkl\")\n",
    "df.head(5)"
   ]
  }
 ],
 "metadata": {
  "kernelspec": {
   "display_name": "Python 3",
   "language": "python",
   "name": "python3"
  },
  "language_info": {
   "codemirror_mode": {
    "name": "ipython",
    "version": 3
   },
   "file_extension": ".py",
   "mimetype": "text/x-python",
   "name": "python",
   "nbconvert_exporter": "python",
   "pygments_lexer": "ipython3",
   "version": "3.7.4"
  }
 },
 "nbformat": 4,
 "nbformat_minor": 2
}
